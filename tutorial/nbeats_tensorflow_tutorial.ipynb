{
  "nbformat": 4,
  "nbformat_minor": 0,
  "metadata": {
    "kernelspec": {
      "language": "python",
      "display_name": "Python 3",
      "name": "python3"
    },
    "language_info": {
      "name": "python",
      "version": "3.7.10",
      "mimetype": "text/x-python",
      "codemirror_mode": {
        "name": "ipython",
        "version": 3
      },
      "pygments_lexer": "ipython3",
      "nbconvert_exporter": "python",
      "file_extension": ".py"
    },
    "colab": {
      "name": "nbeats-tensorflow-tutorial.ipynb",
      "provenance": [],
      "toc_visible": true
    }
  },
  "cells": [
    {
      "cell_type": "markdown",
      "metadata": {
        "id": "Ww8rD_1yoE-I"
      },
      "source": [
        "[![Open In Colab](https://colab.research.google.com/assets/colab-badge.svg)](https://colab.research.google.com/github/googlecolab/colabtools/blob/master/notebooks/colab-github-demo.ipynb)"
      ]
    },
    {
      "cell_type": "markdown",
      "metadata": {
        "id": "6EpJLPpeoKXa"
      },
      "source": [
        "# N-BEATS TensorFlow Tutorial"
      ]
    },
    {
      "cell_type": "markdown",
      "metadata": {
        "id": "dAj8zk-0oE-M"
      },
      "source": [
        "**Paper:** Oreshkin, B. N., Carpov, D., Chapados, N., & Bengio, Y. (2019). N-BEATS: Neural basis expansion analysis for interpretable time series forecasting. [arXiv:1905.10437](https://arxiv.org/abs/1905.10437). \n",
        "\n",
        "**Data:** SILSO, World Data Center - Sunspot Number and Long-Term Solar Observations, Royal Observatory of Belgium, 1818 - 2021. https://wwwbis.sidc.be/silso/datafiles.\n",
        "\n",
        "**Code:** TensorFlow (Python) implementation of N-BEATS model for univariate time series forecasting. https://github.com/flaviagiammarino/nbeats-tensorflow."
      ]
    },
    {
      "cell_type": "markdown",
      "metadata": {
        "id": "TLzjlvTUoE-M"
      },
      "source": [
        "## 1. Set Up"
      ]
    },
    {
      "cell_type": "markdown",
      "metadata": {
        "id": "HLVelSD8oE-N"
      },
      "source": [
        "Install the dependencies."
      ]
    },
    {
      "cell_type": "code",
      "metadata": {
        "execution": {
          "iopub.status.busy": "2021-11-12T18:05:57.427661Z",
          "iopub.execute_input": "2021-11-12T18:05:57.428294Z",
          "iopub.status.idle": "2021-11-12T18:06:08.391085Z",
          "shell.execute_reply.started": "2021-11-12T18:05:57.428232Z",
          "shell.execute_reply": "2021-11-12T18:06:08.389346Z"
        },
        "trusted": true,
        "id": "EWSTyZ69oE-N"
      },
      "source": [
        "!pip install pandas numpy tensorflow plotly optuna"
      ],
      "execution_count": null,
      "outputs": []
    },
    {
      "cell_type": "markdown",
      "metadata": {
        "id": "djRlenZsoE-O"
      },
      "source": [
        "Clone the repository."
      ]
    },
    {
      "cell_type": "code",
      "metadata": {
        "execution": {
          "iopub.status.busy": "2021-11-12T18:06:08.400776Z",
          "iopub.execute_input": "2021-11-12T18:06:08.401229Z",
          "iopub.status.idle": "2021-11-12T18:06:16.366854Z",
          "shell.execute_reply.started": "2021-11-12T18:06:08.401163Z",
          "shell.execute_reply": "2021-11-12T18:06:16.365641Z"
        },
        "trusted": true,
        "id": "h3KpWXt3oE-P"
      },
      "source": [
        "!pip install github-clone"
      ],
      "execution_count": null,
      "outputs": []
    },
    {
      "cell_type": "code",
      "metadata": {
        "execution": {
          "iopub.status.busy": "2021-11-12T18:06:16.370295Z",
          "iopub.execute_input": "2021-11-12T18:06:16.370622Z",
          "iopub.status.idle": "2021-11-12T18:06:20.195717Z",
          "shell.execute_reply.started": "2021-11-12T18:06:16.370586Z",
          "shell.execute_reply": "2021-11-12T18:06:20.194135Z"
        },
        "trusted": true,
        "id": "qRPqJrNKoE-P"
      },
      "source": [
        "!ghclone https://github.com/flaviagiammarino/nbeats-tensorflow/tree/main/nbeats_tensorflow"
      ],
      "execution_count": null,
      "outputs": []
    },
    {
      "cell_type": "markdown",
      "metadata": {
        "id": "AyJHeTqroE-P"
      },
      "source": [
        "Import the libraries."
      ]
    },
    {
      "cell_type": "code",
      "metadata": {
        "execution": {
          "iopub.status.busy": "2021-11-12T18:06:20.198489Z",
          "iopub.execute_input": "2021-11-12T18:06:20.198784Z",
          "iopub.status.idle": "2021-11-12T18:06:23.500646Z",
          "shell.execute_reply.started": "2021-11-12T18:06:20.198750Z",
          "shell.execute_reply": "2021-11-12T18:06:23.499472Z"
        },
        "trusted": true,
        "id": "o_hruF1foE-Q"
      },
      "source": [
        "import optuna\n",
        "import logging\n",
        "import pandas as pd\n",
        "import numpy as np\n",
        "import tensorflow as tf\n",
        "import plotly.graph_objects as go"
      ],
      "execution_count": null,
      "outputs": []
    },
    {
      "cell_type": "code",
      "metadata": {
        "execution": {
          "iopub.status.busy": "2021-11-12T18:06:23.502473Z",
          "iopub.execute_input": "2021-11-12T18:06:23.502769Z",
          "iopub.status.idle": "2021-11-12T18:06:23.754080Z",
          "shell.execute_reply.started": "2021-11-12T18:06:23.502734Z",
          "shell.execute_reply": "2021-11-12T18:06:23.752877Z"
        },
        "trusted": true,
        "id": "z42Z5STYoE-Q"
      },
      "source": [
        "from nbeats_tensorflow.model import NBeats"
      ],
      "execution_count": null,
      "outputs": []
    },
    {
      "cell_type": "markdown",
      "metadata": {
        "id": "_n7ieE3CoE-R"
      },
      "source": [
        "Set the logging level."
      ]
    },
    {
      "cell_type": "code",
      "metadata": {
        "execution": {
          "iopub.status.busy": "2021-11-12T18:06:23.755755Z",
          "iopub.execute_input": "2021-11-12T18:06:23.756084Z",
          "iopub.status.idle": "2021-11-12T18:06:23.773000Z",
          "shell.execute_reply.started": "2021-11-12T18:06:23.756042Z",
          "shell.execute_reply": "2021-11-12T18:06:23.771618Z"
        },
        "trusted": true,
        "id": "f1aa8sHKoE-R"
      },
      "source": [
        "tf.get_logger().setLevel(logging.ERROR)\n",
        "optuna.logging.set_verbosity(optuna.logging.INFO)"
      ],
      "execution_count": null,
      "outputs": []
    },
    {
      "cell_type": "markdown",
      "metadata": {
        "id": "XQkzTRE_oE-R"
      },
      "source": [
        "Fix the random seeds."
      ]
    },
    {
      "cell_type": "code",
      "metadata": {
        "execution": {
          "iopub.status.busy": "2021-11-12T18:06:23.774609Z",
          "iopub.execute_input": "2021-11-12T18:06:23.775741Z",
          "iopub.status.idle": "2021-11-12T18:06:23.787559Z",
          "shell.execute_reply.started": "2021-11-12T18:06:23.775663Z",
          "shell.execute_reply": "2021-11-12T18:06:23.786298Z"
        },
        "trusted": true,
        "id": "XpZgCmhMoE-S"
      },
      "source": [
        "TENSORFLOW_SEED = 0\n",
        "OPTUNA_SEED = 0"
      ],
      "execution_count": null,
      "outputs": []
    },
    {
      "cell_type": "markdown",
      "metadata": {
        "id": "Namf2SlloE-S"
      },
      "source": [
        "## 2. Data"
      ]
    },
    {
      "cell_type": "markdown",
      "metadata": {
        "id": "5cDvmSReoE-S"
      },
      "source": [
        "Download the data."
      ]
    },
    {
      "cell_type": "code",
      "metadata": {
        "execution": {
          "iopub.status.busy": "2021-11-12T18:06:23.789988Z",
          "iopub.execute_input": "2021-11-12T18:06:23.792946Z",
          "iopub.status.idle": "2021-11-12T18:06:26.900002Z",
          "shell.execute_reply.started": "2021-11-12T18:06:23.792873Z",
          "shell.execute_reply": "2021-11-12T18:06:26.898969Z"
        },
        "trusted": true,
        "id": "PO2Bm86poE-S"
      },
      "source": [
        "df = pd.read_csv('https://wdc-silso-daily-sunspot-number.s3.eu-west-2.amazonaws.com/SN_d_tot_V2.0.csv', sep=';', header=None, usecols=[0, 1, 2, 4], names=['year', 'month', 'day', 'y'])"
      ],
      "execution_count": null,
      "outputs": []
    },
    {
      "cell_type": "code",
      "metadata": {
        "execution": {
          "iopub.status.busy": "2021-11-12T18:06:26.901774Z",
          "iopub.execute_input": "2021-11-12T18:06:26.902133Z",
          "iopub.status.idle": "2021-11-12T18:06:26.927753Z",
          "shell.execute_reply.started": "2021-11-12T18:06:26.902087Z",
          "shell.execute_reply": "2021-11-12T18:06:26.926856Z"
        },
        "trusted": true,
        "id": "0EBkAsNmoE-T"
      },
      "source": [
        "df"
      ],
      "execution_count": null,
      "outputs": []
    },
    {
      "cell_type": "markdown",
      "metadata": {
        "id": "fk29cBwPoE-T"
      },
      "source": [
        "Fill the missing values with zero."
      ]
    },
    {
      "cell_type": "code",
      "metadata": {
        "execution": {
          "iopub.status.busy": "2021-11-12T18:06:26.929089Z",
          "iopub.execute_input": "2021-11-12T18:06:26.929794Z",
          "iopub.status.idle": "2021-11-12T18:06:26.936504Z",
          "shell.execute_reply.started": "2021-11-12T18:06:26.929742Z",
          "shell.execute_reply": "2021-11-12T18:06:26.935572Z"
        },
        "trusted": true,
        "id": "KtBGYB0PoE-T"
      },
      "source": [
        "df.loc[df['y'] == -1, 'y'] = 0"
      ],
      "execution_count": null,
      "outputs": []
    },
    {
      "cell_type": "markdown",
      "metadata": {
        "id": "msnuUgESoE-T"
      },
      "source": [
        "Generate the timestamps."
      ]
    },
    {
      "cell_type": "code",
      "metadata": {
        "execution": {
          "iopub.status.busy": "2021-11-12T18:06:26.938084Z",
          "iopub.execute_input": "2021-11-12T18:06:26.938323Z",
          "iopub.status.idle": "2021-11-12T18:06:27.184421Z",
          "shell.execute_reply.started": "2021-11-12T18:06:26.938296Z",
          "shell.execute_reply": "2021-11-12T18:06:27.182524Z"
        },
        "trusted": true,
        "id": "sgO694OPoE-U"
      },
      "source": [
        "df['timestamp'] = pd.to_datetime(df['year'].astype(str) + '-' + df['month'].astype(str) + '-' + df['day'].astype(str))"
      ],
      "execution_count": null,
      "outputs": []
    },
    {
      "cell_type": "markdown",
      "metadata": {
        "id": "_ohIvZOVoE-U"
      },
      "source": [
        "Drop the unnecessary columns."
      ]
    },
    {
      "cell_type": "code",
      "metadata": {
        "execution": {
          "iopub.status.busy": "2021-11-12T18:06:27.186192Z",
          "iopub.execute_input": "2021-11-12T18:06:27.186661Z",
          "iopub.status.idle": "2021-11-12T18:06:27.194883Z",
          "shell.execute_reply.started": "2021-11-12T18:06:27.186624Z",
          "shell.execute_reply": "2021-11-12T18:06:27.193739Z"
        },
        "trusted": true,
        "id": "tJ1_K6ydoE-U"
      },
      "source": [
        "df = df[['timestamp', 'y']]"
      ],
      "execution_count": null,
      "outputs": []
    },
    {
      "cell_type": "markdown",
      "metadata": {
        "id": "lz4zKO94oE-U"
      },
      "source": [
        "Downsample the data from daily to monthly."
      ]
    },
    {
      "cell_type": "code",
      "metadata": {
        "execution": {
          "iopub.status.busy": "2021-11-12T18:06:27.198003Z",
          "iopub.execute_input": "2021-11-12T18:06:27.198281Z",
          "iopub.status.idle": "2021-11-12T18:06:27.282520Z",
          "shell.execute_reply.started": "2021-11-12T18:06:27.198247Z",
          "shell.execute_reply": "2021-11-12T18:06:27.281216Z"
        },
        "trusted": true,
        "id": "XagF7W5KoE-U"
      },
      "source": [
        "df = df.set_index('timestamp').resample('M')['y'].mean().reset_index()"
      ],
      "execution_count": null,
      "outputs": []
    },
    {
      "cell_type": "code",
      "metadata": {
        "execution": {
          "iopub.status.busy": "2021-11-12T18:06:27.283736Z",
          "iopub.execute_input": "2021-11-12T18:06:27.283991Z",
          "iopub.status.idle": "2021-11-12T18:06:27.300910Z",
          "shell.execute_reply.started": "2021-11-12T18:06:27.283961Z",
          "shell.execute_reply": "2021-11-12T18:06:27.299783Z"
        },
        "trusted": true,
        "id": "P3z9hqH5oE-V"
      },
      "source": [
        "df"
      ],
      "execution_count": null,
      "outputs": []
    },
    {
      "cell_type": "markdown",
      "metadata": {
        "id": "Mu5_ffe-oE-V"
      },
      "source": [
        "Plot the data."
      ]
    },
    {
      "cell_type": "code",
      "metadata": {
        "execution": {
          "iopub.status.busy": "2021-11-12T18:06:27.303226Z",
          "iopub.execute_input": "2021-11-12T18:06:27.303581Z",
          "iopub.status.idle": "2021-11-12T18:06:27.429885Z",
          "shell.execute_reply.started": "2021-11-12T18:06:27.303533Z",
          "shell.execute_reply": "2021-11-12T18:06:27.428941Z"
        },
        "trusted": true,
        "id": "DnFWx651oE-V"
      },
      "source": [
        "layout = dict(\n",
        "    width=800,\n",
        "    height=400,\n",
        "    plot_bgcolor='white',\n",
        "    paper_bgcolor='white',\n",
        "    margin=dict(t=40, b=20, l=20, r=20),\n",
        "    xaxis=dict(\n",
        "        type='date',\n",
        "        nticks=20,\n",
        "        tickfont=dict(\n",
        "            color='#3a3a3a',\n",
        "            size=10,\n",
        "        ),\n",
        "        linecolor='#d9d9d9',\n",
        "        mirror=True,\n",
        "        showgrid=False,\n",
        "    ),\n",
        "    yaxis=dict(\n",
        "        tickfont=dict(\n",
        "            color='#3a3a3a',\n",
        "            size=10,\n",
        "        ),\n",
        "        linecolor='#d9d9d9',\n",
        "        mirror=True,\n",
        "        showgrid=False,\n",
        "        zeroline=False,\n",
        "    ),\n",
        ")\n",
        "\n",
        "data = go.Scatter(\n",
        "    x=df['timestamp'],\n",
        "    y=df['y'],\n",
        "    mode='lines',\n",
        "    line=dict(\n",
        "        color='#b3b3b3',\n",
        "        width=0.5\n",
        "    )\n",
        ")\n",
        "\n",
        "fig = go.Figure(data=data, layout=layout)\n",
        "\n",
        "fig.show()"
      ],
      "execution_count": null,
      "outputs": []
    },
    {
      "cell_type": "markdown",
      "metadata": {
        "id": "NkAGhF5poE-W"
      },
      "source": [
        "## 3. Model"
      ]
    },
    {
      "cell_type": "markdown",
      "metadata": {
        "id": "oiC_W26GoE-W"
      },
      "source": [
        "Define the forecasting horizon."
      ]
    },
    {
      "cell_type": "code",
      "metadata": {
        "execution": {
          "iopub.status.busy": "2021-11-12T18:06:27.431399Z",
          "iopub.execute_input": "2021-11-12T18:06:27.431632Z",
          "iopub.status.idle": "2021-11-12T18:06:27.436494Z",
          "shell.execute_reply.started": "2021-11-12T18:06:27.431605Z",
          "shell.execute_reply": "2021-11-12T18:06:27.435776Z"
        },
        "trusted": true,
        "id": "EJbG9MwgoE-W"
      },
      "source": [
        "forecast_period = 12 * 10 "
      ],
      "execution_count": null,
      "outputs": []
    },
    {
      "cell_type": "markdown",
      "metadata": {
        "id": "mMSfWelSoE-W"
      },
      "source": [
        "Define a function for generating the forecasts and backcasts based on a set of hyperparameters."
      ]
    },
    {
      "cell_type": "code",
      "metadata": {
        "execution": {
          "iopub.status.busy": "2021-11-12T18:06:27.437607Z",
          "iopub.execute_input": "2021-11-12T18:06:27.437911Z",
          "iopub.status.idle": "2021-11-12T18:06:27.450934Z",
          "shell.execute_reply.started": "2021-11-12T18:06:27.437875Z",
          "shell.execute_reply": "2021-11-12T18:06:27.449872Z"
        },
        "trusted": true,
        "id": "YsaY_7uxoE-W"
      },
      "source": [
        "def nn(target, forecast_period, params):\n",
        "    \n",
        "    '''\n",
        "    Parameters:\n",
        "    _______________________________\n",
        "    target: np.array, pd.Series, list.\n",
        "        Time series.\n",
        "        \n",
        "    forecast_period: int.\n",
        "        Forecasting horizon.\n",
        "    \n",
        "    params: dict.\n",
        "        Model parameters.\n",
        "    \n",
        "    Returns:\n",
        "    _______________________________\n",
        "    results: pd.DataFrame\n",
        "        Forecast and backcast.\n",
        "    '''\n",
        "\n",
        "    tf.random.set_seed(TENSORFLOW_SEED)\n",
        "\n",
        "    model = NBeats(\n",
        "        target,\n",
        "        forecast_period=forecast_period,\n",
        "        lookback_period=params['multiplier'] * forecast_period,\n",
        "        stacks=['trend', 'seasonality'],\n",
        "        num_trend_coefficients=params['num_trend_coefficients'],\n",
        "        num_seasonal_coefficients=params['num_seasonal_coefficients'],\n",
        "        hidden_units=params['hidden_units'],\n",
        "        num_blocks_per_stack=params['num_blocks_per_stack'],\n",
        "        share_weights=params['share_weights'],\n",
        "        share_coefficients=params['share_coefficients'],\n",
        "    )\n",
        "\n",
        "    model.fit(\n",
        "        learning_rate=params['learning_rate'],\n",
        "        batch_size=params['batch_size'],\n",
        "        epochs=params['epochs'],\n",
        "        backcast_loss_weight=params['backcast_loss_weight'],\n",
        "        loss='mae',\n",
        "        validation_split=0,\n",
        "        verbose=False\n",
        "    )\n",
        "\n",
        "    results = model.forecast(return_backcast=True)\n",
        "\n",
        "    return results"
      ],
      "execution_count": null,
      "outputs": []
    },
    {
      "cell_type": "markdown",
      "metadata": {
        "id": "xl9tDBnzoE-X"
      },
      "source": [
        "Tune the hyperparameters."
      ]
    },
    {
      "cell_type": "code",
      "metadata": {
        "execution": {
          "iopub.status.busy": "2021-11-12T18:06:27.452251Z",
          "iopub.execute_input": "2021-11-12T18:06:27.452541Z",
          "iopub.status.idle": "2021-11-12T18:59:29.951790Z",
          "shell.execute_reply.started": "2021-11-12T18:06:27.452505Z",
          "shell.execute_reply": "2021-11-12T18:59:29.950678Z"
        },
        "trusted": true,
        "id": "TfnQhT1moE-X"
      },
      "source": [
        "# Split the data into training and validation, set aside the last sequence for testing.\n",
        "y_train = df['y'].iloc[: - 2 * forecast_period]\n",
        "y_valid = df['y'].iloc[- 2 * forecast_period: - forecast_period] \n",
        "\n",
        "# Define the objective function.\n",
        "def objective(trial):\n",
        "\n",
        "    # Sample the hyperparameters.\n",
        "    params = {\n",
        "        'multiplier': trial.suggest_int('multiplier', 2, 7),\n",
        "        'num_trend_coefficients': trial.suggest_int('num_trend_coefficients', 2, 4),\n",
        "        'num_seasonal_coefficients': trial.suggest_int('num_seasonal_coefficients', 2, 8),\n",
        "        'hidden_units': trial.suggest_int('hidden_units', 10, 100, step=10),\n",
        "        'num_blocks_per_stack': trial.suggest_int('num_blocks_per_stack', 1, 3),\n",
        "        'share_weights': trial.suggest_categorical('share_weights', [True, False]),\n",
        "        'share_coefficients': trial.suggest_categorical('share_coefficients', [True, False]),\n",
        "        'learning_rate': trial.suggest_loguniform('learning_rate', 0.001, 0.01),\n",
        "        'batch_size': trial.suggest_categorical('batch_size', [32, 64, 128, 256]),\n",
        "        'epochs': trial.suggest_int('epochs', 100, 300, step=100),\n",
        "        'backcast_loss_weight': trial.suggest_float('backcast_loss_weight', 0, 0.5, step=0.1),   \n",
        "    }\n",
        "\n",
        "    # Generate the forecast and backcast.\n",
        "    df_pred = nn(\n",
        "        target=y_train, \n",
        "        forecast_period=forecast_period, \n",
        "        params=params\n",
        "    ) \n",
        "\n",
        "    # Extract the forecast.\n",
        "    y_pred = df_pred['forecast'].iloc[- forecast_period:].values\n",
        "\n",
        "    # Calculate the forecasting error.\n",
        "    return np.mean(np.abs(y_valid - y_pred))\n",
        "\n",
        "# Minimize the objective function.\n",
        "study = optuna.create_study(direction='minimize', sampler=optuna.samplers.RandomSampler(OPTUNA_SEED))\n",
        "study.optimize(objective, n_trials=50)\n",
        "\n",
        "# Extract the best parameters.\n",
        "best_params = study.best_params"
      ],
      "execution_count": null,
      "outputs": []
    },
    {
      "cell_type": "code",
      "metadata": {
        "execution": {
          "iopub.status.busy": "2021-11-12T18:59:29.953143Z",
          "iopub.execute_input": "2021-11-12T18:59:29.953366Z",
          "iopub.status.idle": "2021-11-12T18:59:29.961600Z",
          "shell.execute_reply.started": "2021-11-12T18:59:29.953341Z",
          "shell.execute_reply": "2021-11-12T18:59:29.960743Z"
        },
        "trusted": true,
        "id": "BkToBjfGoE-Y"
      },
      "source": [
        "best_params"
      ],
      "execution_count": null,
      "outputs": []
    },
    {
      "cell_type": "markdown",
      "metadata": {
        "id": "ISBLdlJRoE-Y"
      },
      "source": [
        "Generate the test set predictions."
      ]
    },
    {
      "cell_type": "code",
      "metadata": {
        "execution": {
          "iopub.status.busy": "2021-11-12T18:59:29.962730Z",
          "iopub.execute_input": "2021-11-12T18:59:29.962979Z",
          "iopub.status.idle": "2021-11-12T18:59:56.602667Z",
          "shell.execute_reply.started": "2021-11-12T18:59:29.962950Z",
          "shell.execute_reply": "2021-11-12T18:59:56.601714Z"
        },
        "trusted": true,
        "id": "15CNzEvyoE-Z"
      },
      "source": [
        "df_test = nn(\n",
        "    target=df['y'].iloc[: - forecast_period], \n",
        "    forecast_period=forecast_period, \n",
        "    params=best_params\n",
        ") "
      ],
      "execution_count": null,
      "outputs": []
    },
    {
      "cell_type": "markdown",
      "metadata": {
        "id": "VJ6vAPOEoE-Z"
      },
      "source": [
        "Add the timestamps to the output data frame."
      ]
    },
    {
      "cell_type": "code",
      "metadata": {
        "execution": {
          "iopub.status.busy": "2021-11-12T18:59:56.604012Z",
          "iopub.execute_input": "2021-11-12T18:59:56.604257Z",
          "iopub.status.idle": "2021-11-12T18:59:56.609561Z",
          "shell.execute_reply.started": "2021-11-12T18:59:56.604228Z",
          "shell.execute_reply": "2021-11-12T18:59:56.608885Z"
        },
        "trusted": true,
        "id": "1JdMDuCooE-Z"
      },
      "source": [
        "df_test['time_idx'] = df['timestamp']"
      ],
      "execution_count": null,
      "outputs": []
    },
    {
      "cell_type": "code",
      "metadata": {
        "execution": {
          "iopub.status.busy": "2021-11-12T18:59:56.610597Z",
          "iopub.execute_input": "2021-11-12T18:59:56.610954Z",
          "iopub.status.idle": "2021-11-12T18:59:56.635930Z",
          "shell.execute_reply.started": "2021-11-12T18:59:56.610926Z",
          "shell.execute_reply": "2021-11-12T18:59:56.635170Z"
        },
        "trusted": true,
        "id": "ewu9pleeoE-Z"
      },
      "source": [
        "df_test.iloc[- 2 * forecast_period:]"
      ],
      "execution_count": null,
      "outputs": []
    },
    {
      "cell_type": "markdown",
      "metadata": {
        "id": "yztQoB1LoE-Z"
      },
      "source": [
        "Plot the test set predictions."
      ]
    },
    {
      "cell_type": "code",
      "metadata": {
        "execution": {
          "iopub.status.busy": "2021-11-12T18:59:56.637440Z",
          "iopub.execute_input": "2021-11-12T18:59:56.637866Z",
          "iopub.status.idle": "2021-11-12T18:59:56.804265Z",
          "shell.execute_reply.started": "2021-11-12T18:59:56.637819Z",
          "shell.execute_reply": "2021-11-12T18:59:56.803224Z"
        },
        "trusted": true,
        "id": "o9sFHQhyoE-a"
      },
      "source": [
        "layout = dict(\n",
        "    width=800,\n",
        "    height=425,\n",
        "    plot_bgcolor='white',\n",
        "    paper_bgcolor='white',\n",
        "    margin=dict(t=40, b=20, l=20, r=20),\n",
        "    legend=dict(\n",
        "        font=dict(\n",
        "            color='#3a3a3a',\n",
        "            size=10,\n",
        "        ),\n",
        "        orientation='h',\n",
        "        x=0.0,\n",
        "        y=1.1,\n",
        "    ),\n",
        "    xaxis=dict(\n",
        "        type='date',\n",
        "        nticks=20,\n",
        "        tickfont=dict(\n",
        "            color='#3a3a3a',\n",
        "            size=10,\n",
        "        ),\n",
        "        linecolor='#d9d9d9',\n",
        "        mirror=True,\n",
        "        showgrid=False,\n",
        "    ),\n",
        "    yaxis=dict(\n",
        "        tickfont=dict(\n",
        "            color='#3a3a3a',\n",
        "            size=10,\n",
        "        ),\n",
        "        linecolor='#d9d9d9',\n",
        "        mirror=True,\n",
        "        showgrid=False,\n",
        "        zeroline=False,\n",
        "    ),\n",
        ")\n",
        "\n",
        "data = []\n",
        "\n",
        "data.append(\n",
        "    go.Scatter(\n",
        "        x=df['timestamp'],\n",
        "        y=df['y'],\n",
        "        name='Actual',\n",
        "        mode='lines',\n",
        "        line=dict(\n",
        "            color='#b3b3b3',\n",
        "            width=0.5\n",
        "        )\n",
        "    )\n",
        ")\n",
        "\n",
        "data.append(\n",
        "    go.Scatter(\n",
        "        x=df_test['time_idx'],\n",
        "        y=df_test['forecast'],\n",
        "        name='Forecast',\n",
        "        mode='lines',\n",
        "        line=dict(\n",
        "            color='#0550ae',\n",
        "            width=1\n",
        "          )\n",
        "      )\n",
        ")\n",
        "\n",
        "data.append(\n",
        "    go.Scatter(\n",
        "        x=df_test['time_idx'],\n",
        "        y=df_test['backcast'],\n",
        "        name='Backcast',\n",
        "        mode='lines',\n",
        "        line=dict(\n",
        "            color='#8250df',\n",
        "            width=1\n",
        "        )\n",
        "    )\n",
        ")\n",
        "\n",
        "fig = go.Figure(data=data, layout=layout)\n",
        "\n",
        "fig.show()"
      ],
      "execution_count": null,
      "outputs": []
    },
    {
      "cell_type": "markdown",
      "metadata": {
        "id": "t0bM7OsioE-a"
      },
      "source": [
        "## 4. Results"
      ]
    },
    {
      "cell_type": "markdown",
      "metadata": {
        "id": "FcZR75qboE-a"
      },
      "source": [
        "Fit the model using all the data."
      ]
    },
    {
      "cell_type": "code",
      "metadata": {
        "execution": {
          "iopub.status.busy": "2021-11-12T18:59:56.805585Z",
          "iopub.execute_input": "2021-11-12T18:59:56.806052Z",
          "iopub.status.idle": "2021-11-12T19:00:29.030753Z",
          "shell.execute_reply.started": "2021-11-12T18:59:56.806009Z",
          "shell.execute_reply": "2021-11-12T19:00:29.029919Z"
        },
        "trusted": true,
        "id": "2qk5PqPloE-a"
      },
      "source": [
        "df_future = nn(\n",
        "    target=df['y'], \n",
        "    forecast_period=forecast_period, \n",
        "    params=best_params\n",
        ")"
      ],
      "execution_count": null,
      "outputs": []
    },
    {
      "cell_type": "markdown",
      "metadata": {
        "id": "phLiDTNVoE-b"
      },
      "source": [
        "Add the timestamps to the output data frame."
      ]
    },
    {
      "cell_type": "code",
      "metadata": {
        "execution": {
          "iopub.status.busy": "2021-11-12T19:00:29.032017Z",
          "iopub.execute_input": "2021-11-12T19:00:29.032236Z",
          "iopub.status.idle": "2021-11-12T19:00:29.044057Z",
          "shell.execute_reply.started": "2021-11-12T19:00:29.032209Z",
          "shell.execute_reply": "2021-11-12T19:00:29.043019Z"
        },
        "trusted": true,
        "id": "t6QEgV4ooE-b"
      },
      "source": [
        "df_future['time_idx'].iloc[:- forecast_period] = df['timestamp']\n",
        "df_future['time_idx'].iloc[- forecast_period:] = pd.date_range(start=df['timestamp'].iloc[-1], periods=1 + forecast_period, freq='M')[1:]"
      ],
      "execution_count": null,
      "outputs": []
    },
    {
      "cell_type": "code",
      "metadata": {
        "execution": {
          "iopub.status.busy": "2021-11-12T19:00:29.046099Z",
          "iopub.execute_input": "2021-11-12T19:00:29.046445Z",
          "iopub.status.idle": "2021-11-12T19:00:29.070646Z",
          "shell.execute_reply.started": "2021-11-12T19:00:29.046400Z",
          "shell.execute_reply": "2021-11-12T19:00:29.069927Z"
        },
        "trusted": true,
        "id": "FAEw1yB4oE-b"
      },
      "source": [
        "df_future.iloc[- 2 * forecast_period:]"
      ],
      "execution_count": null,
      "outputs": []
    },
    {
      "cell_type": "markdown",
      "metadata": {
        "id": "XgIDeem6oE-b"
      },
      "source": [
        "Plot the out of sample forecasts."
      ]
    },
    {
      "cell_type": "code",
      "metadata": {
        "execution": {
          "iopub.status.busy": "2021-11-12T19:00:29.072376Z",
          "iopub.execute_input": "2021-11-12T19:00:29.073895Z",
          "iopub.status.idle": "2021-11-12T19:00:29.298346Z",
          "shell.execute_reply.started": "2021-11-12T19:00:29.073839Z",
          "shell.execute_reply": "2021-11-12T19:00:29.297758Z"
        },
        "trusted": true,
        "id": "lLwD1FQooE-b"
      },
      "source": [
        "layout = dict(\n",
        "    width=800,\n",
        "    height=425,\n",
        "    plot_bgcolor='white',\n",
        "    paper_bgcolor='white',\n",
        "    margin=dict(t=40, b=20, l=20, r=20),\n",
        "    legend=dict(\n",
        "        font=dict(\n",
        "            color='#3a3a3a',\n",
        "            size=10,\n",
        "        ),\n",
        "        orientation='h',\n",
        "        x=0.0,\n",
        "        y=1.1,\n",
        "    ),\n",
        "    xaxis=dict(\n",
        "        type='date',\n",
        "        nticks=20,\n",
        "        tickfont=dict(\n",
        "            color='#3a3a3a',\n",
        "            size=10,\n",
        "        ),\n",
        "        linecolor='#d9d9d9',\n",
        "        mirror=True,\n",
        "        showgrid=False,\n",
        "    ),\n",
        "    yaxis=dict(\n",
        "        tickfont=dict(\n",
        "            color='#3a3a3a',\n",
        "            size=10,\n",
        "        ),\n",
        "        linecolor='#d9d9d9',\n",
        "        mirror=True,\n",
        "        showgrid=False,\n",
        "        zeroline=False,\n",
        "    ),\n",
        ")\n",
        "\n",
        "data = []\n",
        "\n",
        "data.append(\n",
        "    go.Scatter(\n",
        "        x=df['timestamp'],\n",
        "        y=df['y'],\n",
        "        name='Actual',\n",
        "        mode='lines',\n",
        "        line=dict(\n",
        "            color='#b3b3b3',\n",
        "            width=0.5\n",
        "        )\n",
        "    )\n",
        ")\n",
        "\n",
        "data.append(\n",
        "    go.Scatter(\n",
        "        x=df_future['time_idx'],\n",
        "        y=df_future['forecast'],\n",
        "        name='Forecast',\n",
        "        mode='lines',\n",
        "        line=dict(\n",
        "            color='#0550ae',\n",
        "            width=1\n",
        "          )\n",
        "      )\n",
        ")\n",
        "\n",
        "data.append(\n",
        "    go.Scatter(\n",
        "        x=df_future['time_idx'],\n",
        "        y=df_future['backcast'],\n",
        "        name='Backcast',\n",
        "        mode='lines',\n",
        "        line=dict(\n",
        "            color='#8250df',\n",
        "            width=1\n",
        "        )\n",
        "    )\n",
        ")\n",
        "\n",
        "fig = go.Figure(data=data, layout=layout)\n",
        "\n",
        "fig.show()"
      ],
      "execution_count": null,
      "outputs": []
    }
  ]
}